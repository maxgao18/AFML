{
 "cells": [
  {
   "cell_type": "code",
   "execution_count": 1,
   "id": "903af078-32eb-4584-90c8-ac71e7119f68",
   "metadata": {},
   "outputs": [],
   "source": [
    "%load_ext autoreload\n",
    "%autoreload 2"
   ]
  },
  {
   "cell_type": "code",
   "execution_count": 2,
   "id": "8ae908ec-698e-458f-9c6f-592cbe964ce9",
   "metadata": {},
   "outputs": [],
   "source": [
    "import itertools\n",
    "\n",
    "import matplotlib.pyplot as plt\n",
    "import mplfinance as mplf\n",
    "import numpy as np\n",
    "import pandas as pd\n",
    "\n",
    "import c\n",
    "import d\n",
    "import simulation\n",
    "import u"
   ]
  },
  {
   "cell_type": "markdown",
   "id": "03fa6bb5-9ee1-494b-ae45-265a02af6cff",
   "metadata": {},
   "source": [
    "# Run Simulations"
   ]
  },
  {
   "cell_type": "code",
   "execution_count": 3,
   "id": "2ff1f334-d0c0-4b90-8500-3cf5847de293",
   "metadata": {},
   "outputs": [
    {
     "name": "stdout",
     "output_type": "stream",
     "text": [
      "CPU times: total: 1h 50min 57s\n",
      "Wall time: 1h 54min 7s\n"
     ]
    }
   ],
   "source": [
    "%%time\n",
    "\n",
    "stddev = 0.5\n",
    "max_holding_period = 100\n",
    "start_price = 100\n",
    "\n",
    "forecasts = np.arange(70, 130, 2)\n",
    "half_life = np.arange(5, 95, 3)\n",
    "\n",
    "results = []\n",
    "for f, hl in itertools.product(forecasts, half_life):\n",
    "    rho = simulation.half_life_to_rho(hl)\n",
    "\n",
    "    r = simulation.simulate_price_target_stop_loss_mesh(\n",
    "        n_samples_per_point=1000,\n",
    "        target=0.05,\n",
    "        price_targets=[2],\n",
    "        stop_losses=[1],\n",
    "        side=c.Dir.S,\n",
    "        price_data_args={\n",
    "            \"theta\": 0,\n",
    "            \"start_price\": 100,\n",
    "            \"stddev\": stddev,\n",
    "            \"use_exp\": False,\n",
    "            \"n_samples\": max_holding_period,\n",
    "            \"target_value\": f,\n",
    "            \"rho\": rho,\n",
    "        },\n",
    "    )\n",
    "    r[\"forecast\"] = f\n",
    "    r[\"half_life\"] = hl\n",
    "    r[\"sharpe\"] = r[\"profit_mean\"] / r[\"profit_stddev\"]\n",
    "\n",
    "    results.append(r)\n",
    "results = pd.concat(results)"
   ]
  },
  {
   "cell_type": "markdown",
   "id": "31eabfc4-d90d-4b5f-850a-e374c0bc1b6f",
   "metadata": {},
   "source": [
    "# Plot Sharpe Ratio for various Forecasts/Half-Life"
   ]
  },
  {
   "cell_type": "code",
   "execution_count": 4,
   "id": "545587ff-306b-427c-8ac8-156dd14d2b86",
   "metadata": {},
   "outputs": [
    {
     "data": {
      "image/png": "[encoded data removed]",
      "text/plain": [
       "<Figure size 864x864 with 2 Axes>"
      ]
     },
     "metadata": {
      "needs_background": "light"
     },
     "output_type": "display_data"
    }
   ],
   "source": [
    "plt.rcParams[\"figure.figsize\"] = (12, 12)\n",
    "\n",
    "shape = (len(forecasts), len(half_life))\n",
    "plt.pcolormesh(\n",
    "    results[\"forecast\"].values.reshape(shape),\n",
    "    results[\"half_life\"].values.reshape(shape),\n",
    "    results[\"sharpe\"].values.reshape(shape),\n",
    "    cmap=\"magma\",\n",
    ")\n",
    "plt.xlabel(\"Forecast\")\n",
    "plt.ylabel(\"Half-Life\")\n",
    "plt.title(f\"Sharpe-Ratio | Stddev={stddev}\")\n",
    "plt.colorbar()\n",
    "plt.gca().set_box_aspect(1)"
   ]
  }
 ],
 "metadata": {
  "kernelspec": {
   "display_name": "Python 3 (ipykernel)",
   "language": "python",
   "name": "python3"
  },
  "language_info": {
   "codemirror_mode": {
    "name": "ipython",
    "version": 3
   },
   "file_extension": ".py",
   "mimetype": "text/x-python",
   "name": "python",
   "nbconvert_exporter": "python",
   "pygments_lexer": "ipython3",
   "version": "3.8.6"
  }
 },
 "nbformat": 4,
 "nbformat_minor": 5
}
