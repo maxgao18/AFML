{
 "cells": [
  {
   "cell_type": "code",
   "execution_count": 1,
   "id": "d01f00a0-7613-4b19-ae7e-62c54d96ced4",
   "metadata": {},
   "outputs": [],
   "source": [
    "%load_ext autoreload\n",
    "%autoreload 2"
   ]
  },
  {
   "cell_type": "code",
   "execution_count": 2,
   "id": "a994405e-2f22-47b3-bde2-907db201d294",
   "metadata": {},
   "outputs": [],
   "source": [
    "import json\n",
    "\n",
    "import matplotlib.pyplot as plt\n",
    "import numpy as np\n",
    "import pandas as pd\n",
    "\n",
    "import c\n",
    "import d\n",
    "import microstructure"
   ]
  },
  {
   "cell_type": "markdown",
   "id": "11eced2b-dd9a-4a62-8e63-13ea86e9e977",
   "metadata": {},
   "source": [
    "# Data Fetching (Synthetic Data)"
   ]
  },
  {
   "cell_type": "code",
   "execution_count": 3,
   "id": "8810da9a-2da6-4464-b139-5a9a41fa96f1",
   "metadata": {},
   "outputs": [
    {
     "data": {
      "text/html": [
       "<div>\n",
       "<style scoped>\n",
       "    .dataframe tbody tr th:only-of-type {\n",
       "        vertical-align: middle;\n",
       "    }\n",
       "\n",
       "    .dataframe tbody tr th {\n",
       "        vertical-align: top;\n",
       "    }\n",
       "\n",
       "    .dataframe thead th {\n",
       "        text-align: right;\n",
       "    }\n",
       "</style>\n",
       "<table border=\"1\" class=\"dataframe\">\n",
       "  <thead>\n",
       "    <tr style=\"text-align: right;\">\n",
       "      <th></th>\n",
       "      <th>Type</th>\n",
       "      <th>Dv</th>\n",
       "      <th>Quantity</th>\n",
       "      <th>Aggressor</th>\n",
       "    </tr>\n",
       "    <tr>\n",
       "      <th>Date</th>\n",
       "      <th></th>\n",
       "      <th></th>\n",
       "      <th></th>\n",
       "      <th></th>\n",
       "    </tr>\n",
       "  </thead>\n",
       "  <tbody>\n",
       "    <tr>\n",
       "      <th>2022-06-05 21:16:42.859000</th>\n",
       "      <td>TRADE</td>\n",
       "      <td>7.48</td>\n",
       "      <td>19</td>\n",
       "      <td>SELL</td>\n",
       "    </tr>\n",
       "    <tr>\n",
       "      <th>2022-06-05 21:16:42.860000</th>\n",
       "      <td>TRADE</td>\n",
       "      <td>3.90</td>\n",
       "      <td>10</td>\n",
       "      <td>SELL</td>\n",
       "    </tr>\n",
       "    <tr>\n",
       "      <th>2022-06-05 21:16:43.017000</th>\n",
       "      <td>TRADE</td>\n",
       "      <td>4.51</td>\n",
       "      <td>11</td>\n",
       "      <td>BUY</td>\n",
       "    </tr>\n",
       "    <tr>\n",
       "      <th>2022-06-05 21:16:43.017002</th>\n",
       "      <td>TRADE</td>\n",
       "      <td>2.87</td>\n",
       "      <td>7</td>\n",
       "      <td>BUY</td>\n",
       "    </tr>\n",
       "    <tr>\n",
       "      <th>2022-06-05 21:16:43.129000</th>\n",
       "      <td>TRADE</td>\n",
       "      <td>1.64</td>\n",
       "      <td>4</td>\n",
       "      <td>SELL</td>\n",
       "    </tr>\n",
       "  </tbody>\n",
       "</table>\n",
       "</div>"
      ],
      "text/plain": [
       "                             Type    Dv  Quantity Aggressor\n",
       "Date                                                       \n",
       "2022-06-05 21:16:42.859000  TRADE  7.48        19      SELL\n",
       "2022-06-05 21:16:42.860000  TRADE  3.90        10      SELL\n",
       "2022-06-05 21:16:43.017000  TRADE  4.51        11       BUY\n",
       "2022-06-05 21:16:43.017002  TRADE  2.87         7       BUY\n",
       "2022-06-05 21:16:43.129000  TRADE  1.64         4      SELL"
      ]
     },
     "execution_count": 3,
     "metadata": {},
     "output_type": "execute_result"
    }
   ],
   "source": [
    "trade_data = d.fetch(\"data/tick\", \"trade.csv\")\n",
    "trade_data.head()"
   ]
  },
  {
   "cell_type": "markdown",
   "id": "569adfea-f2be-45dc-ae82-47ce2311c1aa",
   "metadata": {},
   "source": [
    "# Rolls Measure"
   ]
  },
  {
   "cell_type": "code",
   "execution_count": 10,
   "id": "29849868-fb3e-42f4-91e5-80d1eb1954ca",
   "metadata": {},
   "outputs": [
    {
     "data": {
      "text/plain": [
       "'Rolls Estimate: 0.0116'"
      ]
     },
     "execution_count": 10,
     "metadata": {},
     "output_type": "execute_result"
    }
   ],
   "source": [
    "trade_data[\"price\"] = trade_data[\"Dv\"] / trade_data[\"Quantity\"]\n",
    "rolls_spread = microstructure.rolls_spread_estimate(trade_data[\"price\"])\n",
    "f\"Rolls Estimate: {rolls_spread:.4f}\""
   ]
  }
 ],
 "metadata": {
  "kernelspec": {
   "display_name": "Python 3 (ipykernel)",
   "language": "python",
   "name": "python3"
  },
  "language_info": {
   "codemirror_mode": {
    "name": "ipython",
    "version": 3
   },
   "file_extension": ".py",
   "mimetype": "text/x-python",
   "name": "python",
   "nbconvert_exporter": "python",
   "pygments_lexer": "ipython3",
   "version": "3.8.6"
  }
 },
 "nbformat": 4,
 "nbformat_minor": 5
}
